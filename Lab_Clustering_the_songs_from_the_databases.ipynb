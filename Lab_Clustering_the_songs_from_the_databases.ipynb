{
 "cells": [
  {
   "cell_type": "markdown",
   "metadata": {},
   "source": [
    "# Dimensionality reduction"
   ]
  },
  {
   "cell_type": "code",
   "execution_count": 58,
   "metadata": {},
   "outputs": [],
   "source": [
    "from config import *"
   ]
  },
  {
   "cell_type": "code",
   "execution_count": 59,
   "metadata": {},
   "outputs": [],
   "source": [
    "#importing libraries\n",
    "from random import randint\n",
    "import time\n",
    "from time import sleep\n",
    "import spotipy\n",
    "from spotipy.oauth2 import SpotifyClientCredentials\n",
    "import numpy as np\n",
    "import pandas as pd"
   ]
  },
  {
   "cell_type": "code",
   "execution_count": 60,
   "metadata": {},
   "outputs": [],
   "source": [
    "#establish the connection\n",
    "sp = spotipy.Spotify(auth_manager=SpotifyClientCredentials(client_id=client_id,\n",
    "                                                           client_secret=client_secret))"
   ]
  },
  {
   "cell_type": "code",
   "execution_count": 61,
   "metadata": {},
   "outputs": [],
   "source": [
    "#Sklearn\n",
    "from sklearn.datasets import make_classification\n",
    "from sklearn.cluster import DBSCAN\n",
    "from sklearn.preprocessing import StandardScaler\n",
    "from scipy.spatial.distance import euclidean\n",
    "from sklearn.metrics import silhouette_score, calinski_harabasz_score\n",
    "from kneed import KneeLocator\n",
    "import matplotlib.pyplot as plt\n",
    "import seaborn as sns\n",
    "import colorcet as cc\n",
    "import time\n",
    "import pickle"
   ]
  },
  {
   "cell_type": "markdown",
   "metadata": {},
   "source": [
    "### Read .csv"
   ]
  },
  {
   "cell_type": "code",
   "execution_count": 64,
   "metadata": {},
   "outputs": [],
   "source": [
    "hot_songs_features = pd.read_csv('hot_songs_features.csv')\n",
    "not_hot_songs_features = pd.read_csv('not_hot_songs_features.csv')"
   ]
  },
  {
   "cell_type": "markdown",
   "metadata": {},
   "source": [
    "_____"
   ]
  },
  {
   "cell_type": "markdown",
   "metadata": {},
   "source": [
    "## Concat DataFrame \n"
   ]
  },
  {
   "cell_type": "code",
   "execution_count": 68,
   "metadata": {},
   "outputs": [
    {
     "data": {
      "text/html": [
       "<div>\n",
       "<style scoped>\n",
       "    .dataframe tbody tr th:only-of-type {\n",
       "        vertical-align: middle;\n",
       "    }\n",
       "\n",
       "    .dataframe tbody tr th {\n",
       "        vertical-align: top;\n",
       "    }\n",
       "\n",
       "    .dataframe thead th {\n",
       "        text-align: right;\n",
       "    }\n",
       "</style>\n",
       "<table border=\"1\" class=\"dataframe\">\n",
       "  <thead>\n",
       "    <tr style=\"text-align: right;\">\n",
       "      <th></th>\n",
       "      <th>Title</th>\n",
       "      <th>Artist</th>\n",
       "      <th>danceability</th>\n",
       "      <th>energy</th>\n",
       "      <th>key</th>\n",
       "      <th>loudness</th>\n",
       "      <th>mode</th>\n",
       "      <th>speechiness</th>\n",
       "      <th>acousticness</th>\n",
       "      <th>instrumentalness</th>\n",
       "      <th>liveness</th>\n",
       "      <th>valence</th>\n",
       "      <th>tempo</th>\n",
       "      <th>type</th>\n",
       "      <th>id</th>\n",
       "      <th>uri</th>\n",
       "      <th>track_href</th>\n",
       "      <th>analysis_url</th>\n",
       "      <th>duration_ms</th>\n",
       "      <th>time_signature</th>\n",
       "    </tr>\n",
       "  </thead>\n",
       "  <tbody>\n",
       "    <tr>\n",
       "      <th>0</th>\n",
       "      <td>Paint The Town Red</td>\n",
       "      <td>Doja Cat</td>\n",
       "      <td>0.864</td>\n",
       "      <td>0.556</td>\n",
       "      <td>2.0</td>\n",
       "      <td>-7.683</td>\n",
       "      <td>0.0</td>\n",
       "      <td>0.194</td>\n",
       "      <td>0.255</td>\n",
       "      <td>0.000004</td>\n",
       "      <td>0.112</td>\n",
       "      <td>0.726</td>\n",
       "      <td>99.974</td>\n",
       "      <td>audio_features</td>\n",
       "      <td>56y1jOTK0XSvJzVv9vHQBK</td>\n",
       "      <td>spotify:track:56y1jOTK0XSvJzVv9vHQBK</td>\n",
       "      <td>https://api.spotify.com/v1/tracks/56y1jOTK0XSv...</td>\n",
       "      <td>https://api.spotify.com/v1/audio-analysis/56y1...</td>\n",
       "      <td>230480.0</td>\n",
       "      <td>4.0</td>\n",
       "    </tr>\n",
       "  </tbody>\n",
       "</table>\n",
       "</div>"
      ],
      "text/plain": [
       "                Title    Artist  danceability  energy  key  loudness  mode  \\\n",
       "0  Paint The Town Red  Doja Cat         0.864   0.556  2.0    -7.683   0.0   \n",
       "\n",
       "   speechiness  acousticness  instrumentalness  liveness  valence   tempo  \\\n",
       "0        0.194         0.255          0.000004     0.112    0.726  99.974   \n",
       "\n",
       "             type                      id  \\\n",
       "0  audio_features  56y1jOTK0XSvJzVv9vHQBK   \n",
       "\n",
       "                                    uri  \\\n",
       "0  spotify:track:56y1jOTK0XSvJzVv9vHQBK   \n",
       "\n",
       "                                          track_href  \\\n",
       "0  https://api.spotify.com/v1/tracks/56y1jOTK0XSv...   \n",
       "\n",
       "                                        analysis_url  duration_ms  \\\n",
       "0  https://api.spotify.com/v1/audio-analysis/56y1...     230480.0   \n",
       "\n",
       "   time_signature  \n",
       "0             4.0  "
      ]
     },
     "execution_count": 68,
     "metadata": {},
     "output_type": "execute_result"
    }
   ],
   "source": [
    "read = pd.concat([hot_songs_features, not_hot_songs_features], axis=0) \n",
    "read.head(1)"
   ]
  },
  {
   "cell_type": "code",
   "execution_count": 69,
   "metadata": {},
   "outputs": [
    {
     "data": {
      "text/plain": [
       "(2398, 20)"
      ]
     },
     "execution_count": 69,
     "metadata": {},
     "output_type": "execute_result"
    }
   ],
   "source": [
    "read.shape"
   ]
  },
  {
   "cell_type": "code",
   "execution_count": 78,
   "metadata": {},
   "outputs": [
    {
     "name": "stdout",
     "output_type": "stream",
     "text": [
      "<class 'pandas.core.frame.DataFrame'>\n",
      "Index: 2398 entries, 0 to 2297\n",
      "Data columns (total 20 columns):\n",
      " #   Column            Non-Null Count  Dtype  \n",
      "---  ------            --------------  -----  \n",
      " 0   Title             2398 non-null   object \n",
      " 1   Artist            2398 non-null   object \n",
      " 2   danceability      2393 non-null   float64\n",
      " 3   energy            2393 non-null   float64\n",
      " 4   key               2393 non-null   float64\n",
      " 5   loudness          2393 non-null   float64\n",
      " 6   mode              2393 non-null   float64\n",
      " 7   speechiness       2393 non-null   float64\n",
      " 8   acousticness      2393 non-null   float64\n",
      " 9   instrumentalness  2393 non-null   float64\n",
      " 10  liveness          2393 non-null   float64\n",
      " 11  valence           2393 non-null   float64\n",
      " 12  tempo             2393 non-null   float64\n",
      " 13  type              2393 non-null   object \n",
      " 14  id                2393 non-null   object \n",
      " 15  uri               2393 non-null   object \n",
      " 16  track_href        2393 non-null   object \n",
      " 17  analysis_url      2393 non-null   object \n",
      " 18  duration_ms       2393 non-null   float64\n",
      " 19  time_signature    2393 non-null   float64\n",
      "dtypes: float64(13), object(7)\n",
      "memory usage: 393.4+ KB\n"
     ]
    }
   ],
   "source": [
    "read.info()"
   ]
  },
  {
   "cell_type": "code",
   "execution_count": 81,
   "metadata": {},
   "outputs": [
    {
     "data": {
      "text/html": [
       "<div>\n",
       "<style scoped>\n",
       "    .dataframe tbody tr th:only-of-type {\n",
       "        vertical-align: middle;\n",
       "    }\n",
       "\n",
       "    .dataframe tbody tr th {\n",
       "        vertical-align: top;\n",
       "    }\n",
       "\n",
       "    .dataframe thead th {\n",
       "        text-align: right;\n",
       "    }\n",
       "</style>\n",
       "<table border=\"1\" class=\"dataframe\">\n",
       "  <thead>\n",
       "    <tr style=\"text-align: right;\">\n",
       "      <th></th>\n",
       "      <th>danceability</th>\n",
       "      <th>energy</th>\n",
       "      <th>key</th>\n",
       "      <th>loudness</th>\n",
       "      <th>mode</th>\n",
       "      <th>speechiness</th>\n",
       "      <th>acousticness</th>\n",
       "      <th>instrumentalness</th>\n",
       "      <th>liveness</th>\n",
       "      <th>valence</th>\n",
       "      <th>tempo</th>\n",
       "      <th>duration_ms</th>\n",
       "      <th>time_signature</th>\n",
       "    </tr>\n",
       "  </thead>\n",
       "  <tbody>\n",
       "    <tr>\n",
       "      <th>0</th>\n",
       "      <td>0.864</td>\n",
       "      <td>0.556</td>\n",
       "      <td>2.0</td>\n",
       "      <td>-7.683</td>\n",
       "      <td>0.0</td>\n",
       "      <td>0.194</td>\n",
       "      <td>0.255</td>\n",
       "      <td>0.000004</td>\n",
       "      <td>0.112</td>\n",
       "      <td>0.726</td>\n",
       "      <td>99.974</td>\n",
       "      <td>230480.0</td>\n",
       "      <td>4.0</td>\n",
       "    </tr>\n",
       "  </tbody>\n",
       "</table>\n",
       "</div>"
      ],
      "text/plain": [
       "   danceability  energy  key  loudness  mode  speechiness  acousticness  \\\n",
       "0         0.864   0.556  2.0    -7.683   0.0        0.194         0.255   \n",
       "\n",
       "   instrumentalness  liveness  valence   tempo  duration_ms  time_signature  \n",
       "0          0.000004     0.112    0.726  99.974     230480.0             4.0  "
      ]
     },
     "execution_count": 81,
     "metadata": {},
     "output_type": "execute_result"
    }
   ],
   "source": [
    "features = read.iloc[:, list(range(2, 13)) + list(range(18, 20))].copy()\n",
    "features.head(1)"
   ]
  },
  {
   "cell_type": "markdown",
   "metadata": {},
   "source": [
    "## Scaling features\n"
   ]
  },
  {
   "cell_type": "code",
   "execution_count": 82,
   "metadata": {},
   "outputs": [
    {
     "data": {
      "text/html": [
       "<div>\n",
       "<style scoped>\n",
       "    .dataframe tbody tr th:only-of-type {\n",
       "        vertical-align: middle;\n",
       "    }\n",
       "\n",
       "    .dataframe tbody tr th {\n",
       "        vertical-align: top;\n",
       "    }\n",
       "\n",
       "    .dataframe thead th {\n",
       "        text-align: right;\n",
       "    }\n",
       "</style>\n",
       "<table border=\"1\" class=\"dataframe\">\n",
       "  <thead>\n",
       "    <tr style=\"text-align: right;\">\n",
       "      <th></th>\n",
       "      <th>danceability</th>\n",
       "      <th>energy</th>\n",
       "      <th>key</th>\n",
       "      <th>loudness</th>\n",
       "      <th>mode</th>\n",
       "      <th>speechiness</th>\n",
       "      <th>acousticness</th>\n",
       "      <th>instrumentalness</th>\n",
       "      <th>liveness</th>\n",
       "      <th>valence</th>\n",
       "      <th>tempo</th>\n",
       "      <th>duration_ms</th>\n",
       "      <th>time_signature</th>\n",
       "    </tr>\n",
       "  </thead>\n",
       "  <tbody>\n",
       "    <tr>\n",
       "      <th>count</th>\n",
       "      <td>2393.000000</td>\n",
       "      <td>2393.000000</td>\n",
       "      <td>2393.000000</td>\n",
       "      <td>2393.000000</td>\n",
       "      <td>2393.000000</td>\n",
       "      <td>2393.000000</td>\n",
       "      <td>2393.000000</td>\n",
       "      <td>2393.000000</td>\n",
       "      <td>2393.000000</td>\n",
       "      <td>2393.000000</td>\n",
       "      <td>2393.000000</td>\n",
       "      <td>2393.000000</td>\n",
       "      <td>2393.000000</td>\n",
       "    </tr>\n",
       "    <tr>\n",
       "      <th>mean</th>\n",
       "      <td>0.654972</td>\n",
       "      <td>0.682573</td>\n",
       "      <td>5.246135</td>\n",
       "      <td>-6.050226</td>\n",
       "      <td>0.611366</td>\n",
       "      <td>0.097543</td>\n",
       "      <td>0.175801</td>\n",
       "      <td>0.029112</td>\n",
       "      <td>0.174655</td>\n",
       "      <td>0.530481</td>\n",
       "      <td>121.136483</td>\n",
       "      <td>223321.473046</td>\n",
       "      <td>3.974091</td>\n",
       "    </tr>\n",
       "    <tr>\n",
       "      <th>std</th>\n",
       "      <td>0.143712</td>\n",
       "      <td>0.176478</td>\n",
       "      <td>3.594404</td>\n",
       "      <td>2.677144</td>\n",
       "      <td>0.487542</td>\n",
       "      <td>0.092555</td>\n",
       "      <td>0.228216</td>\n",
       "      <td>0.136587</td>\n",
       "      <td>0.135874</td>\n",
       "      <td>0.231151</td>\n",
       "      <td>27.848254</td>\n",
       "      <td>44775.877261</td>\n",
       "      <td>0.252408</td>\n",
       "    </tr>\n",
       "    <tr>\n",
       "      <th>min</th>\n",
       "      <td>0.162000</td>\n",
       "      <td>0.009370</td>\n",
       "      <td>0.000000</td>\n",
       "      <td>-34.840000</td>\n",
       "      <td>0.000000</td>\n",
       "      <td>0.022500</td>\n",
       "      <td>0.000013</td>\n",
       "      <td>0.000000</td>\n",
       "      <td>0.021000</td>\n",
       "      <td>0.000010</td>\n",
       "      <td>50.141000</td>\n",
       "      <td>62253.000000</td>\n",
       "      <td>1.000000</td>\n",
       "    </tr>\n",
       "    <tr>\n",
       "      <th>25%</th>\n",
       "      <td>0.562000</td>\n",
       "      <td>0.576000</td>\n",
       "      <td>2.000000</td>\n",
       "      <td>-7.054000</td>\n",
       "      <td>0.000000</td>\n",
       "      <td>0.038000</td>\n",
       "      <td>0.018500</td>\n",
       "      <td>0.000000</td>\n",
       "      <td>0.090700</td>\n",
       "      <td>0.354000</td>\n",
       "      <td>99.050000</td>\n",
       "      <td>197547.000000</td>\n",
       "      <td>4.000000</td>\n",
       "    </tr>\n",
       "    <tr>\n",
       "      <th>50%</th>\n",
       "      <td>0.665000</td>\n",
       "      <td>0.706000</td>\n",
       "      <td>5.000000</td>\n",
       "      <td>-5.613000</td>\n",
       "      <td>1.000000</td>\n",
       "      <td>0.057300</td>\n",
       "      <td>0.076100</td>\n",
       "      <td>0.000000</td>\n",
       "      <td>0.120000</td>\n",
       "      <td>0.536000</td>\n",
       "      <td>120.040000</td>\n",
       "      <td>220291.000000</td>\n",
       "      <td>4.000000</td>\n",
       "    </tr>\n",
       "    <tr>\n",
       "      <th>75%</th>\n",
       "      <td>0.757000</td>\n",
       "      <td>0.816000</td>\n",
       "      <td>8.000000</td>\n",
       "      <td>-4.381000</td>\n",
       "      <td>1.000000</td>\n",
       "      <td>0.113000</td>\n",
       "      <td>0.237000</td>\n",
       "      <td>0.000064</td>\n",
       "      <td>0.222000</td>\n",
       "      <td>0.717000</td>\n",
       "      <td>138.015000</td>\n",
       "      <td>245000.000000</td>\n",
       "      <td>4.000000</td>\n",
       "    </tr>\n",
       "    <tr>\n",
       "      <th>max</th>\n",
       "      <td>0.975000</td>\n",
       "      <td>0.988000</td>\n",
       "      <td>11.000000</td>\n",
       "      <td>-0.276000</td>\n",
       "      <td>1.000000</td>\n",
       "      <td>0.591000</td>\n",
       "      <td>0.995000</td>\n",
       "      <td>0.991000</td>\n",
       "      <td>0.971000</td>\n",
       "      <td>0.974000</td>\n",
       "      <td>210.857000</td>\n",
       "      <td>688453.000000</td>\n",
       "      <td>5.000000</td>\n",
       "    </tr>\n",
       "  </tbody>\n",
       "</table>\n",
       "</div>"
      ],
      "text/plain": [
       "       danceability       energy          key     loudness         mode  \\\n",
       "count   2393.000000  2393.000000  2393.000000  2393.000000  2393.000000   \n",
       "mean       0.654972     0.682573     5.246135    -6.050226     0.611366   \n",
       "std        0.143712     0.176478     3.594404     2.677144     0.487542   \n",
       "min        0.162000     0.009370     0.000000   -34.840000     0.000000   \n",
       "25%        0.562000     0.576000     2.000000    -7.054000     0.000000   \n",
       "50%        0.665000     0.706000     5.000000    -5.613000     1.000000   \n",
       "75%        0.757000     0.816000     8.000000    -4.381000     1.000000   \n",
       "max        0.975000     0.988000    11.000000    -0.276000     1.000000   \n",
       "\n",
       "       speechiness  acousticness  instrumentalness     liveness      valence  \\\n",
       "count  2393.000000   2393.000000       2393.000000  2393.000000  2393.000000   \n",
       "mean      0.097543      0.175801          0.029112     0.174655     0.530481   \n",
       "std       0.092555      0.228216          0.136587     0.135874     0.231151   \n",
       "min       0.022500      0.000013          0.000000     0.021000     0.000010   \n",
       "25%       0.038000      0.018500          0.000000     0.090700     0.354000   \n",
       "50%       0.057300      0.076100          0.000000     0.120000     0.536000   \n",
       "75%       0.113000      0.237000          0.000064     0.222000     0.717000   \n",
       "max       0.591000      0.995000          0.991000     0.971000     0.974000   \n",
       "\n",
       "             tempo    duration_ms  time_signature  \n",
       "count  2393.000000    2393.000000     2393.000000  \n",
       "mean    121.136483  223321.473046        3.974091  \n",
       "std      27.848254   44775.877261        0.252408  \n",
       "min      50.141000   62253.000000        1.000000  \n",
       "25%      99.050000  197547.000000        4.000000  \n",
       "50%     120.040000  220291.000000        4.000000  \n",
       "75%     138.015000  245000.000000        4.000000  \n",
       "max     210.857000  688453.000000        5.000000  "
      ]
     },
     "execution_count": 82,
     "metadata": {},
     "output_type": "execute_result"
    }
   ],
   "source": [
    "features.describe()"
   ]
  },
  {
   "cell_type": "code",
   "execution_count": 85,
   "metadata": {},
   "outputs": [],
   "source": [
    "# Initialize the model, fit and transform data\n",
    "scaler = StandardScaler()\n",
    "scaler.fit(features)\n",
    "features_scaled = scaler.transform(features)\n",
    "features_scaled_df = pd.DataFrame(features_scaled, columns = features.columns)"
   ]
  },
  {
   "cell_type": "code",
   "execution_count": 86,
   "metadata": {},
   "outputs": [
    {
     "data": {
      "text/html": [
       "<div>\n",
       "<style scoped>\n",
       "    .dataframe tbody tr th:only-of-type {\n",
       "        vertical-align: middle;\n",
       "    }\n",
       "\n",
       "    .dataframe tbody tr th {\n",
       "        vertical-align: top;\n",
       "    }\n",
       "\n",
       "    .dataframe thead th {\n",
       "        text-align: right;\n",
       "    }\n",
       "</style>\n",
       "<table border=\"1\" class=\"dataframe\">\n",
       "  <thead>\n",
       "    <tr style=\"text-align: right;\">\n",
       "      <th></th>\n",
       "      <th>danceability</th>\n",
       "      <th>energy</th>\n",
       "      <th>key</th>\n",
       "      <th>loudness</th>\n",
       "      <th>mode</th>\n",
       "      <th>speechiness</th>\n",
       "      <th>acousticness</th>\n",
       "      <th>instrumentalness</th>\n",
       "      <th>liveness</th>\n",
       "      <th>valence</th>\n",
       "      <th>tempo</th>\n",
       "      <th>duration_ms</th>\n",
       "      <th>time_signature</th>\n",
       "    </tr>\n",
       "  </thead>\n",
       "  <tbody>\n",
       "    <tr>\n",
       "      <th>0</th>\n",
       "      <td>1.454791</td>\n",
       "      <td>-0.717367</td>\n",
       "      <td>-0.903297</td>\n",
       "      <td>-0.610021</td>\n",
       "      <td>-1.254240</td>\n",
       "      <td>1.042370</td>\n",
       "      <td>0.347109</td>\n",
       "      <td>-0.213159</td>\n",
       "      <td>-0.461220</td>\n",
       "      <td>0.846027</td>\n",
       "      <td>-0.760080</td>\n",
       "      <td>0.159908</td>\n",
       "      <td>0.102668</td>\n",
       "    </tr>\n",
       "    <tr>\n",
       "      <th>1</th>\n",
       "      <td>-0.667945</td>\n",
       "      <td>-0.745705</td>\n",
       "      <td>-0.068491</td>\n",
       "      <td>-0.441149</td>\n",
       "      <td>0.797295</td>\n",
       "      <td>0.372360</td>\n",
       "      <td>-0.152522</td>\n",
       "      <td>-0.213187</td>\n",
       "      <td>-0.475943</td>\n",
       "      <td>-0.599216</td>\n",
       "      <td>0.785546</td>\n",
       "      <td>-0.480749</td>\n",
       "      <td>0.102668</td>\n",
       "    </tr>\n",
       "    <tr>\n",
       "      <th>2</th>\n",
       "      <td>-0.723624</td>\n",
       "      <td>0.671201</td>\n",
       "      <td>0.209777</td>\n",
       "      <td>0.366596</td>\n",
       "      <td>0.797295</td>\n",
       "      <td>-0.726673</td>\n",
       "      <td>-0.713511</td>\n",
       "      <td>-0.213143</td>\n",
       "      <td>0.665060</td>\n",
       "      <td>0.408992</td>\n",
       "      <td>0.247483</td>\n",
       "      <td>0.389544</td>\n",
       "      <td>0.102668</td>\n",
       "    </tr>\n",
       "  </tbody>\n",
       "</table>\n",
       "</div>"
      ],
      "text/plain": [
       "   danceability    energy       key  loudness      mode  speechiness  \\\n",
       "0      1.454791 -0.717367 -0.903297 -0.610021 -1.254240     1.042370   \n",
       "1     -0.667945 -0.745705 -0.068491 -0.441149  0.797295     0.372360   \n",
       "2     -0.723624  0.671201  0.209777  0.366596  0.797295    -0.726673   \n",
       "\n",
       "   acousticness  instrumentalness  liveness   valence     tempo  duration_ms  \\\n",
       "0      0.347109         -0.213159 -0.461220  0.846027 -0.760080     0.159908   \n",
       "1     -0.152522         -0.213187 -0.475943 -0.599216  0.785546    -0.480749   \n",
       "2     -0.713511         -0.213143  0.665060  0.408992  0.247483     0.389544   \n",
       "\n",
       "   time_signature  \n",
       "0        0.102668  \n",
       "1        0.102668  \n",
       "2        0.102668  "
      ]
     },
     "execution_count": 86,
     "metadata": {},
     "output_type": "execute_result"
    }
   ],
   "source": [
    "features_scaled_df.head(3)"
   ]
  },
  {
   "cell_type": "markdown",
   "metadata": {},
   "source": [
    "### PCA"
   ]
  },
  {
   "cell_type": "code",
   "execution_count": null,
   "metadata": {},
   "outputs": [],
   "source": []
  },
  {
   "cell_type": "code",
   "execution_count": null,
   "metadata": {},
   "outputs": [],
   "source": []
  },
  {
   "cell_type": "code",
   "execution_count": null,
   "metadata": {},
   "outputs": [],
   "source": []
  },
  {
   "cell_type": "code",
   "execution_count": null,
   "metadata": {},
   "outputs": [],
   "source": []
  },
  {
   "cell_type": "markdown",
   "metadata": {},
   "source": [
    "### ISOMAP"
   ]
  },
  {
   "cell_type": "code",
   "execution_count": null,
   "metadata": {},
   "outputs": [],
   "source": []
  },
  {
   "cell_type": "code",
   "execution_count": null,
   "metadata": {},
   "outputs": [],
   "source": []
  },
  {
   "cell_type": "code",
   "execution_count": null,
   "metadata": {},
   "outputs": [],
   "source": []
  },
  {
   "cell_type": "code",
   "execution_count": null,
   "metadata": {},
   "outputs": [],
   "source": []
  },
  {
   "cell_type": "markdown",
   "metadata": {},
   "source": [
    "### TSNE"
   ]
  },
  {
   "cell_type": "code",
   "execution_count": null,
   "metadata": {},
   "outputs": [],
   "source": []
  },
  {
   "cell_type": "code",
   "execution_count": null,
   "metadata": {},
   "outputs": [],
   "source": []
  },
  {
   "cell_type": "code",
   "execution_count": null,
   "metadata": {},
   "outputs": [],
   "source": []
  },
  {
   "cell_type": "code",
   "execution_count": null,
   "metadata": {},
   "outputs": [],
   "source": []
  },
  {
   "cell_type": "code",
   "execution_count": null,
   "metadata": {},
   "outputs": [],
   "source": []
  },
  {
   "cell_type": "markdown",
   "metadata": {},
   "source": [
    "# Clustering"
   ]
  },
  {
   "cell_type": "markdown",
   "metadata": {},
   "source": [
    "### K-MEAN"
   ]
  },
  {
   "cell_type": "code",
   "execution_count": null,
   "metadata": {},
   "outputs": [],
   "source": []
  },
  {
   "cell_type": "code",
   "execution_count": null,
   "metadata": {},
   "outputs": [],
   "source": []
  },
  {
   "cell_type": "markdown",
   "metadata": {},
   "source": [
    "### DBSCAN"
   ]
  },
  {
   "cell_type": "code",
   "execution_count": null,
   "metadata": {},
   "outputs": [],
   "source": []
  },
  {
   "cell_type": "code",
   "execution_count": null,
   "metadata": {},
   "outputs": [],
   "source": []
  },
  {
   "cell_type": "markdown",
   "metadata": {},
   "source": [
    "### HDBSCAN"
   ]
  },
  {
   "cell_type": "code",
   "execution_count": null,
   "metadata": {},
   "outputs": [],
   "source": [
    "Metrics of clustering:\n",
    "    - what is a cluster for you?"
   ]
  },
  {
   "cell_type": "code",
   "execution_count": null,
   "metadata": {},
   "outputs": [],
   "source": []
  },
  {
   "cell_type": "code",
   "execution_count": null,
   "metadata": {},
   "outputs": [],
   "source": []
  },
  {
   "cell_type": "code",
   "execution_count": null,
   "metadata": {},
   "outputs": [],
   "source": []
  },
  {
   "cell_type": "code",
   "execution_count": null,
   "metadata": {},
   "outputs": [],
   "source": []
  },
  {
   "cell_type": "code",
   "execution_count": null,
   "metadata": {},
   "outputs": [],
   "source": []
  },
  {
   "cell_type": "code",
   "execution_count": null,
   "metadata": {},
   "outputs": [],
   "source": []
  }
 ],
 "metadata": {
  "colab": {
   "provenance": []
  },
  "kernelspec": {
   "display_name": "Python 3 (ipykernel)",
   "language": "python",
   "name": "python3"
  },
  "language_info": {
   "codemirror_mode": {
    "name": "ipython",
    "version": 3
   },
   "file_extension": ".py",
   "mimetype": "text/x-python",
   "name": "python",
   "nbconvert_exporter": "python",
   "pygments_lexer": "ipython3",
   "version": "3.11.0"
  }
 },
 "nbformat": 4,
 "nbformat_minor": 1
}
